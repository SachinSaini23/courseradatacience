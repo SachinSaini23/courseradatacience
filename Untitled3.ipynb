{
  "metadata": {
    "language_info": {
      "codemirror_mode": {
        "name": "python",
        "version": 3
      },
      "file_extension": ".py",
      "mimetype": "text/x-python",
      "name": "python",
      "nbconvert_exporter": "python",
      "pygments_lexer": "ipython3",
      "version": "3.8"
    },
    "kernelspec": {
      "name": "python",
      "display_name": "Python (Pyodide)",
      "language": "python"
    }
  },
  "nbformat_minor": 4,
  "nbformat": 4,
  "cells": [
    {
      "cell_type": "code",
      "source": "print(\"Data science ecosystem\")",
      "metadata": {
        "trusted": true
      },
      "execution_count": 2,
      "outputs": [
        {
          "name": "stdout",
          "text": "Data science ecosystem\n",
          "output_type": "stream"
        }
      ]
    },
    {
      "cell_type": "code",
      "source": "print(\"Hi I am Sachin\")",
      "metadata": {
        "trusted": true
      },
      "execution_count": 3,
      "outputs": [
        {
          "name": "stdout",
          "text": "Hi I am Sachin\n",
          "output_type": "stream"
        }
      ]
    },
    {
      "cell_type": "code",
      "source": "print(\"popular datascience language\")\nprint(\"python\")\nprint(\"R\")\nprint(\"Matlab\")",
      "metadata": {
        "trusted": true
      },
      "execution_count": 5,
      "outputs": [
        {
          "name": "stdout",
          "text": "popular datascience language\npython\nR\nMatlab\n",
          "output_type": "stream"
        }
      ]
    },
    {
      "cell_type": "code",
      "source": "print(\"popular datascience Libraries\")\nprint(\"Numpy\")\nprint(\"seaborn\")\nprint(\"pandas\")\nprint(\"matplotlib\")\nprint(\"pytorch\")\nprint(\"Tensorflow\")\nprint(\"Keras\")\nprint(\"etc..\")",
      "metadata": {
        "trusted": true
      },
      "execution_count": 7,
      "outputs": [
        {
          "name": "stdout",
          "text": "popular datascience Libraries\nNumpy\nseaborn\npandas\nmatplotlib\npytorch\nTensorflow\nKeras\netc..\n",
          "output_type": "stream"
        }
      ]
    },
    {
      "cell_type": "code",
      "source": "## Data Science Tools\n\nprint(\"Tool               |      Description\")                                    \n\nprint(\" Jupyter Notebook | Interactive computing and data visualization\")    \nprint(\"RStudio           | Integrated development environment for R\")         \nprint(\" Visual Studio Code | Code editor with data science extensions\")     \nprint(\" Tableau         | Data visualization and business intelligence\")     \nprint(\" IBM Watson      | AI and machine learning platform\")                 \nprint(\" Google Colab    | Cloud-based Jupyter notebooks by Google\")          \n",
      "metadata": {
        "trusted": true
      },
      "execution_count": 9,
      "outputs": [
        {
          "name": "stdout",
          "text": "Tool               |      Description\n Jupyter Notebook | Interactive computing and data visualization\nRStudio           | Integrated development environment for R\n Visual Studio Code | Code editor with data science extensions\n Tableau         | Data visualization and business intelligence\n IBM Watson      | AI and machine learning platform\n Google Colab    | Cloud-based Jupyter notebooks by Google\n",
          "output_type": "stream"
        }
      ]
    },
    {
      "cell_type": "code",
      "source": "#introducing arithmetic expression examples.\nprint(\"Addition\")\nprint(\"2 + 4 equals 6\")\nprint(\"Subtraction\")\nprint(\"8-1 equals 7\")\nprint(\"Multiplication\")\nprint(\"6*6 equals 36\")\nprint(\"Division\")\nprint(\"12/2 equals 6\")\n",
      "metadata": {
        "trusted": true
      },
      "execution_count": 12,
      "outputs": [
        {
          "name": "stdout",
          "text": "Addition\n2 + 4 equals 6\nSubtraction\n8-1 equals 7\nMultiplication\n6*6 equals 36\nDivision\n12/2 equals 6\n",
          "output_type": "stream"
        }
      ]
    },
    {
      "cell_type": "code",
      "source": "num_1 = 10\nnum_2 = 7\nmulti = num_1*num_2\nAddi = num_1+num_2\nprint(\"multiplication of\",num_1, \"and\",num_2, \"=\", multi)\nprint(\"Addition of\", num_1, \"and\", num_2, \"=\", Addi)      ",
      "metadata": {
        "trusted": true
      },
      "execution_count": 13,
      "outputs": [
        {
          "name": "stdout",
          "text": "multiplication of 10 and 7 = 70\nAddition of 10 and 7 = 17\n",
          "output_type": "stream"
        }
      ]
    },
    {
      "cell_type": "code",
      "source": "# Convert minutes to hours\nminutes = 150\nhours = minutes / 60\nhours\nprint(f\"{minutes} minutes is equals to {hours} hours\")\n",
      "metadata": {
        "trusted": true
      },
      "execution_count": 16,
      "outputs": [
        {
          "name": "stdout",
          "text": "150 minutes is equals to 2.5 hours\n",
          "output_type": "stream"
        }
      ]
    },
    {
      "cell_type": "code",
      "source": "## Objectives\nprint(\"Explore data science languages and libraries\")\nprint(\"Perform basic mathematical calculations\")\nprint(\"Introduce data science tools\")\n",
      "metadata": {
        "trusted": true
      },
      "execution_count": 17,
      "outputs": [
        {
          "name": "stdout",
          "text": "Explore data science languages and libraries\nPerform basic mathematical calculations\nIntroduce data science tools\n",
          "output_type": "stream"
        }
      ]
    },
    {
      "cell_type": "code",
      "source": "## Author\nprint(\"Sachin Saini\")",
      "metadata": {
        "trusted": true
      },
      "execution_count": 18,
      "outputs": [
        {
          "name": "stdout",
          "text": "Sachin Saini\n",
          "output_type": "stream"
        }
      ]
    },
    {
      "cell_type": "code",
      "source": "",
      "metadata": {},
      "execution_count": null,
      "outputs": []
    }
  ]
}